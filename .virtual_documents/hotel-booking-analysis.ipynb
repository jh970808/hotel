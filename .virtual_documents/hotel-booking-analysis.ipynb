import pandas as pd

# 예시: csv 파일에서 데이터 불러오기
df = pd.read_csv('hotel_booking.csv')


import matplotlib.pyplot as plt
import matplotlib.font_manager as fm

# Mac 환경에서 기본 한글 폰트 설정 (예: AppleGothic)
plt.rcParams['font.family'] = 'D2coding'

# 마이너스 기호 깨짐 방지
plt.rcParams['axes.unicode_minus'] = False


df.shape


df.columns


df.info()


df['reservation_status_date'] = pd.to_datetime(
    df['arrival_year'].astype(str) + '-' +
    df['arrival_month'].astype(str) + '-' +
    df['arrival_date'].astype(str),
    errors='coerce'  # 유효하지 않은 날짜는 NaT로 처리
)



df.info()


df.describe(include = 'object')


for col in df.describe(include='object').columns:
    print(col)
    print(df[col].unique())
    print('-'*50)








df.drop(columns=[col for col in ['company', 'agent'] if col in df.columns], inplace=True)
df.isnull().sum()


df.drop(columns=[col for col in ['company', 'agent'] if col in df.columns], inplace=True)



df.isnull().sum()


df.describe()


# 객실 평균 단가가 너무 큰 이상치 제거
df = df[df['avg_price_per_room'] < 5000]



df.describe()





# 디시젼 트리
import pandas as pd
import matplotlib.pyplot as plt
from sklearn.model_selection import train_test_split
from sklearn.preprocessing import LabelEncoder
from sklearn.tree import DecisionTreeClassifier, plot_tree
from sklearn.metrics import classification_report, roc_auc_score

# 데이터 준비
df = df[df['avg_price_per_room'] < 5000]
df.drop(['company', 'agent'], axis=1, inplace=True, errors='ignore')
df.dropna(inplace=True)

# Feature 및 Target 설정
features = [
    'lead_time', 'no_of_weekend_nights', 'no_of_week_nights',
    'room_type_reserved', 'type_of_meal_plan',
    'market_segment_type', 'repeated_guest',
    'no_of_special_requests', 'avg_price_per_room'
]
X = df[features].copy()
y = df['booking_status'].apply(lambda x: 1 if x == 'Canceled' else 0)

# 범주형 변수 인코딩
for col in X.select_dtypes('object').columns:
    X[col] = LabelEncoder().fit_transform(X[col])

# 학습/테스트 분할
X_train, X_test, y_train, y_test = train_test_split(X, y, test_size=0.2, random_state=42)

# 모델 정의 및 학습
dt_model = DecisionTreeClassifier(random_state=42, max_depth=5)
dt_model.fit(X_train, y_train)

# 예측
preds = dt_model.predict(X_test)
proba = dt_model.predict_proba(X_test)[:, 1]

# 성능 평가
report = classification_report(y_test, preds, output_dict=True)
auc = roc_auc_score(y_test, proba)

# 📊 성능 비교표 출력
performance_dt = pd.DataFrame([{
    "Model": "Decision Tree",
    "Accuracy": report["accuracy"],
    "Precision": report["1"]["precision"],
    "Recall": report["1"]["recall"],
    "F1-Score": report["1"]["f1-score"],
    "ROC AUC": auc
}])
print("📈 Decision Tree 성능 비교표")
print(performance_dt)

# 🌟 Feature Importance 시각화
importances = dt_model.feature_importances_
plt.figure(figsize=(10, 6))
plt.barh(X.columns, importances)
plt.xlabel("Importance Score")
plt.title("Feature Importance - Decision Tree")
plt.tight_layout()
plt.show()



# 랜덤 포레스트
import pandas as pd
import matplotlib.pyplot as plt
from sklearn.model_selection import train_test_split
from sklearn.preprocessing import LabelEncoder
from sklearn.ensemble import RandomForestClassifier
from sklearn.metrics import classification_report, roc_auc_score

# 1. 데이터 준비
df = df[df['avg_price_per_room'] < 5000]
df.drop(['company', 'agent'], axis=1, inplace=True, errors='ignore')
df.dropna(inplace=True)

# 2. 변수 선택
features = [
    'lead_time', 'no_of_weekend_nights', 'no_of_week_nights',
    'room_type_reserved', 'type_of_meal_plan',
    'market_segment_type', 'repeated_guest',
    'no_of_special_requests', 'avg_price_per_room'
]
X = df[features].copy()
y = df['booking_status'].apply(lambda x: 1 if x == 'Canceled' else 0)

# 범주형 변수 인코딩
for col in X.select_dtypes('object').columns:
    X[col] = LabelEncoder().fit_transform(X[col])

# 학습/검증 분할
X_train, X_test, y_train, y_test = train_test_split(X, y, test_size=0.2, random_state=42)

# 3. 모델 학습
rf_model = RandomForestClassifier(n_estimators=100, random_state=42)
rf_model.fit(X_train, y_train)

# 4. 예측
rf_preds = rf_model.predict(X_test)
rf_proba = rf_model.predict_proba(X_test)[:, 1]

# 5. 성능 평가
rf_report = classification_report(y_test, rf_preds, output_dict=True)
rf_auc = roc_auc_score(y_test, rf_proba)

# 📊 성능 비교표 출력
performance_rf = pd.DataFrame([{
    "Model": "Random Forest",
    "Accuracy": rf_report["accuracy"],
    "Precision": rf_report["1"]["precision"],
    "Recall": rf_report["1"]["recall"],
    "F1-Score": rf_report["1"]["f1-score"],
    "ROC AUC": rf_auc
}])
print("📈 Random Forest 성능 비교표")
print(performance_rf)

# 🌟 Feature Importance 시각화
rf_importance = rf_model.feature_importances_
plt.figure(figsize=(10, 6))
plt.barh(X.columns, rf_importance)
plt.xlabel("Importance Score")
plt.title("Feature Importance - Random Forest")
plt.tight_layout()
plt.show()




# xgboost
import pandas as pd
import matplotlib.pyplot as plt
from sklearn.model_selection import train_test_split
from sklearn.preprocessing import LabelEncoder
from xgboost import XGBClassifier, plot_importance
from sklearn.metrics import classification_report, roc_auc_score

# 1. 데이터 전처리
df = df[df['avg_price_per_room'] < 5000]
df.drop(['company', 'agent'], axis=1, inplace=True, errors='ignore')
df.dropna(inplace=True)

# 2. 변수 선택
features = [
    'lead_time', 'no_of_weekend_nights', 'no_of_week_nights',
    'room_type_reserved', 'type_of_meal_plan',
    'market_segment_type', 'repeated_guest',
    'no_of_special_requests', 'avg_price_per_room'
]
X = df[features].copy()
y = df['booking_status'].apply(lambda x: 1 if x == 'Canceled' else 0)

# 3. 범주형 변수 인코딩
for col in X.select_dtypes('object').columns:
    X[col] = LabelEncoder().fit_transform(X[col])

# 4. 학습/테스트 데이터 분리
X_train, X_test, y_train, y_test = train_test_split(X, y, test_size=0.2, random_state=42)

# 5. XGBoost 모델 학습
xgb_model = XGBClassifier(use_label_encoder=False, eval_metric='logloss', random_state=42)
xgb_model.fit(X_train, y_train)

# 6. 예측 및 평가
xgb_preds = xgb_model.predict(X_test)
xgb_proba = xgb_model.predict_proba(X_test)[:, 1]

xgb_report = classification_report(y_test, xgb_preds, output_dict=True)
xgb_auc = roc_auc_score(y_test, xgb_proba)

# 📊 성능 비교표 출력
performance_xgb = pd.DataFrame([{
    "Model": "XGBoost",
    "Accuracy": xgb_report["accuracy"],
    "Precision": xgb_report["1"]["precision"],
    "Recall": xgb_report["1"]["recall"],
    "F1-Score": xgb_report["1"]["f1-score"],
    "ROC AUC": xgb_auc
}])
print("📈 XGBoost 성능 비교표")
print(performance_xgb)

# 🌟 Feature Importance 시각화
plt.figure(figsize=(10, 6))
plot_importance(xgb_model, importance_type='gain', show_values=False)
plt.title("Feature Importance - XGBoost (by Gain)")
plt.tight_layout()
plt.show()






print(df.columns)


df['market_segment_type'].value_counts()


df['market_segment_type'].value_counts(normalize=True)


# 예약 취소된 데이터만 따로 저장
cancelled_data = df[df['booking_status'] == 'Canceled']


cancelled_data['market_segment_type'].value_counts(normalize=True)


# 예약 취소 데이터에서 날짜별 평균 객실 요금 계산
cancelled_df_adr = cancelled_data.groupby('reservation_status_date')[['avg_price_per_room']].mean()
cancelled_df_adr.reset_index(inplace=True)
cancelled_df_adr.sort_values('reservation_status_date', inplace=True)

not_cancelled_data = df[df['booking_status'] == 'Not_Canceled']
not_cancelled_df_adr = not_cancelled_data.groupby('reservation_status_date')[['avg_price_per_room']].mean()
not_cancelled_df_adr.reset_index(inplace=True)
not_cancelled_df_adr.sort_values('reservation_status_date', inplace=True)

plt.figure(figsize=(15, 6))
plt.plot(cancelled_df_adr['reservation_status_date'], cancelled_df_adr['avg_price_per_room'], label='Cancelled')
plt.plot(not_cancelled_df_adr['reservation_status_date'], not_cancelled_df_adr['avg_price_per_room'], label='Not Cancelled')
plt.title('예약 상태별 평균 객실 요금(ADR) 변화')
plt.xlabel('날짜')
plt.ylabel('객실 평균 요금')
plt.legend()
plt.xticks(rotation=45)
plt.tight_layout()
plt.show()


# 월 컬럼 추가
df['month'] = df['reservation_status_date'].dt.month

# 월별 평균 예약 건수 계산 (연도 통합)
monthly_avg = df.groupby(['month', 'booking_status']).size().unstack(fill_value=0)

# 시각화
monthly_avg.plot(kind='bar', stacked=True, figsize=(10, 6), color=['mediumseagreen', 'lightcoral'])
plt.title('월별 평균 예약/취소 건수 (연도 통합)')
plt.xlabel('월')
plt.ylabel('건수')
plt.xticks(rotation=0)
plt.legend(title='예약 상태')
plt.tight_layout()
plt.show()


import pandas as pd
import matplotlib.pyplot as plt

# 예약 취소 데이터 만들기 (먼저 실행)
cancelled_data = df[df['booking_status'] == 'Canceled']

# 1. 예약 채널별 전체 vs 취소 비중 시각화
market_total = df['market_segment_type'].value_counts(normalize=True)
market_cancelled = cancelled_data['market_segment_type'].value_counts(normalize=True)

market_df = pd.DataFrame({
    '전체 예약 비중': market_total,
    '취소된 예약 비중': market_cancelled
}).fillna(0)

market_df.plot(kind='bar', figsize=(10,6), color=['skyblue', 'salmon'])
plt.title('예약 채널별 전체 예약 비중 vs 취소 비중')
plt.xlabel('예약 채널 (market_segment_type)')
plt.ylabel('비율 (%)')
plt.xticks(rotation=45)
plt.legend(loc='upper right')
plt.tight_layout()
plt.show()

# 2. 재방문 여부에 따른 예약 상태 비율
repeated_status = df.groupby('repeated_guest')['booking_status'].value_counts(normalize=True).unstack()

repeated_status.plot(kind='bar', stacked=True, figsize=(6,5), color=['skyblue', 'salmon'])
plt.title('재방문 여부에 따른 예약 상태')
plt.xlabel('재방문 여부 (0 = 신규, 1 = 재방문)')
plt.ylabel('비율 (%)')
plt.xticks(rotation=90)
plt.legend(title='예약 상태')
plt.tight_layout()
plt.show()

# 3. 특별 요청 수에 따른 예약 상태 비율
special_status = df.groupby('no_of_special_requests')['booking_status'].value_counts(normalize=True).unstack()

special_status.plot(kind='bar', stacked=True, figsize=(10,5), color=['skyblue', 'salmon'])
plt.title('특별 요청(주차) 수에 따른 예약 상태')
plt.xlabel('특별 요청 수')
plt.ylabel('비율 (%)')
plt.xticks(rotation=90)
plt.legend(title='예약 상태')
plt.tight_layout()
plt.show()









